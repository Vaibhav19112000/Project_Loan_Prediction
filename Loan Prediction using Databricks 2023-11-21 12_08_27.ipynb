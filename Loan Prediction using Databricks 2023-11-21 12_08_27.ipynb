{
 "cells": [
  {
   "cell_type": "code",
   "execution_count": 0,
   "metadata": {
    "application/vnd.databricks.v1+cell": {
     "cellMetadata": {
      "byteLimit": 2048000,
      "rowLimit": 10000
     },
     "inputWidgets": {},
     "nuid": "7adbc74e-c09b-408b-93f3-7d7d44c182e7",
     "showTitle": false,
     "title": ""
    }
   },
   "outputs": [],
   "source": [
    "from pyspark.sql import SparkSession\n",
    "from pyspark.ml.feature import VectorAssembler\n",
    "from pyspark.ml.regression import LinearRegression\n",
    "from pyspark.ml.evaluation import RegressionEvaluator\n",
    "\n",
    "# Create a Spark session\n",
    "spark = SparkSession.builder.appName(\"LinearRegressionExample\").getOrCreate()"
   ]
  },
  {
   "cell_type": "code",
   "execution_count": 0,
   "metadata": {
    "application/vnd.databricks.v1+cell": {
     "cellMetadata": {
      "byteLimit": 2048000,
      "rowLimit": 10000
     },
     "inputWidgets": {},
     "nuid": "172832e4-2c0c-47f2-a52f-6c4f3b9bb89d",
     "showTitle": false,
     "title": ""
    }
   },
   "outputs": [],
   "source": [
    "\n",
    "# Read the data into a Spark DataFrame\n",
    "df = spark.read.csv(\"dbfs:/FileStore/tables/Housing.txt\", header=True, inferSchema=True)"
   ]
  },
  {
   "cell_type": "code",
   "execution_count": 0,
   "metadata": {
    "application/vnd.databricks.v1+cell": {
     "cellMetadata": {
      "byteLimit": 2048000,
      "rowLimit": 10000
     },
     "inputWidgets": {},
     "nuid": "d501a3aa-7a68-4648-9cff-9b6638b09bea",
     "showTitle": false,
     "title": ""
    }
   },
   "outputs": [
    {
     "output_type": "stream",
     "name": "stdout",
     "output_type": "stream",
     "text": [
      "+-------+-------+--------+-------+-------+--------+-------+--------+-----+-----+--------+--------+\n|  price|lotsize|bedrooms|bathrms|stories|driveway|recroom|fullbase|gashw|airco|garagepl|prefarea|\n+-------+-------+--------+-------+-------+--------+-------+--------+-----+-----+--------+--------+\n|42000.0|   5850|       3|      1|      2|     yes|     no|     yes|   no|   no|       1|      no|\n|38500.0|   4000|       2|      1|      1|     yes|     no|      no|   no|   no|       0|      no|\n|49500.0|   3060|       3|      1|      1|     yes|     no|      no|   no|   no|       0|      no|\n|60500.0|   6650|       3|      1|      2|     yes|    yes|      no|   no|   no|       0|      no|\n|61000.0|   6360|       2|      1|      1|     yes|     no|      no|   no|   no|       0|      no|\n|66000.0|   4160|       3|      1|      1|     yes|    yes|     yes|   no|  yes|       0|      no|\n|66000.0|   3880|       3|      2|      2|     yes|     no|     yes|   no|   no|       2|      no|\n|69000.0|   4160|       3|      1|      3|     yes|     no|      no|   no|   no|       0|      no|\n|83800.0|   4800|       3|      1|      1|     yes|    yes|     yes|   no|   no|       0|      no|\n|88500.0|   5500|       3|      2|      4|     yes|    yes|      no|   no|  yes|       1|      no|\n|90000.0|   7200|       3|      2|      1|     yes|     no|     yes|   no|  yes|       3|      no|\n|30500.0|   3000|       2|      1|      1|      no|     no|      no|   no|   no|       0|      no|\n|27000.0|   1700|       3|      1|      2|     yes|     no|      no|   no|   no|       0|      no|\n|36000.0|   2880|       3|      1|      1|      no|     no|      no|   no|   no|       0|      no|\n|37000.0|   3600|       2|      1|      1|     yes|     no|      no|   no|   no|       0|      no|\n|37900.0|   3185|       2|      1|      1|     yes|     no|      no|   no|  yes|       0|      no|\n|40500.0|   3300|       3|      1|      2|      no|     no|      no|   no|   no|       1|      no|\n|40750.0|   5200|       4|      1|      3|     yes|     no|      no|   no|   no|       0|      no|\n|45000.0|   3450|       1|      1|      1|     yes|     no|      no|   no|   no|       0|      no|\n|45000.0|   3986|       2|      2|      1|      no|    yes|     yes|   no|   no|       1|      no|\n+-------+-------+--------+-------+-------+--------+-------+--------+-----+-----+--------+--------+\nonly showing top 20 rows\n\n"
     ]
    }
   ],
   "source": [
    "df.show()"
   ]
  },
  {
   "cell_type": "code",
   "execution_count": 0,
   "metadata": {
    "application/vnd.databricks.v1+cell": {
     "cellMetadata": {
      "byteLimit": 2048000,
      "rowLimit": 10000
     },
     "inputWidgets": {},
     "nuid": "bad43724-6e78-4fae-9678-cc02ad09d251",
     "showTitle": false,
     "title": ""
    }
   },
   "outputs": [],
   "source": [
    "\n",
    "# Select the features and label\n",
    "data = df.select(['lotsize']+['price'])"
   ]
  },
  {
   "cell_type": "code",
   "execution_count": 0,
   "metadata": {
    "application/vnd.databricks.v1+cell": {
     "cellMetadata": {
      "byteLimit": 2048000,
      "rowLimit": 10000
     },
     "inputWidgets": {},
     "nuid": "54bf249f-5c5f-4414-b921-ac92dcc27f9b",
     "showTitle": false,
     "title": ""
    }
   },
   "outputs": [
    {
     "output_type": "stream",
     "name": "stdout",
     "output_type": "stream",
     "text": [
      "+-------+-------+\n|lotsize|  price|\n+-------+-------+\n|   5850|42000.0|\n|   4000|38500.0|\n|   3060|49500.0|\n|   6650|60500.0|\n|   6360|61000.0|\n|   4160|66000.0|\n|   3880|66000.0|\n|   4160|69000.0|\n|   4800|83800.0|\n|   5500|88500.0|\n|   7200|90000.0|\n|   3000|30500.0|\n|   1700|27000.0|\n|   2880|36000.0|\n|   3600|37000.0|\n|   3185|37900.0|\n|   3300|40500.0|\n|   5200|40750.0|\n|   3450|45000.0|\n|   3986|45000.0|\n+-------+-------+\nonly showing top 20 rows\n\n"
     ]
    }
   ],
   "source": [
    "data.show()"
   ]
  },
  {
   "cell_type": "code",
   "execution_count": 0,
   "metadata": {
    "application/vnd.databricks.v1+cell": {
     "cellMetadata": {
      "byteLimit": 2048000,
      "rowLimit": 10000
     },
     "inputWidgets": {},
     "nuid": "cd6708c6-c8a2-42c0-9e3e-8b1c210035bc",
     "showTitle": false,
     "title": ""
    }
   },
   "outputs": [],
   "source": [
    "# Assemble the features into a single column\n",
    "assembler = VectorAssembler(inputCols=[\"lotsize\"], outputCol=\"features\")\n",
    "data = assembler.transform(data)"
   ]
  },
  {
   "cell_type": "code",
   "execution_count": 0,
   "metadata": {
    "application/vnd.databricks.v1+cell": {
     "cellMetadata": {
      "byteLimit": 2048000,
      "rowLimit": 10000
     },
     "inputWidgets": {},
     "nuid": "407878c2-d1a3-4c15-b149-919f375883d1",
     "showTitle": false,
     "title": ""
    }
   },
   "outputs": [
    {
     "output_type": "stream",
     "name": "stdout",
     "output_type": "stream",
     "text": [
      "+-------+-------+--------+\n|lotsize|  price|features|\n+-------+-------+--------+\n|   5850|42000.0|[5850.0]|\n|   4000|38500.0|[4000.0]|\n|   3060|49500.0|[3060.0]|\n|   6650|60500.0|[6650.0]|\n|   6360|61000.0|[6360.0]|\n|   4160|66000.0|[4160.0]|\n|   3880|66000.0|[3880.0]|\n|   4160|69000.0|[4160.0]|\n|   4800|83800.0|[4800.0]|\n|   5500|88500.0|[5500.0]|\n|   7200|90000.0|[7200.0]|\n|   3000|30500.0|[3000.0]|\n|   1700|27000.0|[1700.0]|\n|   2880|36000.0|[2880.0]|\n|   3600|37000.0|[3600.0]|\n|   3185|37900.0|[3185.0]|\n|   3300|40500.0|[3300.0]|\n|   5200|40750.0|[5200.0]|\n|   3450|45000.0|[3450.0]|\n|   3986|45000.0|[3986.0]|\n+-------+-------+--------+\nonly showing top 20 rows\n\n"
     ]
    }
   ],
   "source": [
    "data.show()"
   ]
  },
  {
   "cell_type": "code",
   "execution_count": 0,
   "metadata": {
    "application/vnd.databricks.v1+cell": {
     "cellMetadata": {
      "byteLimit": 2048000,
      "rowLimit": 10000
     },
     "inputWidgets": {},
     "nuid": "26a34900-a9a4-48bc-81a3-c27a141c2aa8",
     "showTitle": false,
     "title": ""
    }
   },
   "outputs": [],
   "source": [
    "# Split the data into training and testing sets\n",
    "train_data, test_data = data.randomSplit([0.7, 0.3], seed=42)"
   ]
  },
  {
   "cell_type": "code",
   "execution_count": 0,
   "metadata": {
    "application/vnd.databricks.v1+cell": {
     "cellMetadata": {
      "byteLimit": 2048000,
      "rowLimit": 10000
     },
     "inputWidgets": {},
     "nuid": "13631175-b905-4b30-beab-8b8cdb953807",
     "showTitle": false,
     "title": ""
    }
   },
   "outputs": [],
   "source": [
    "# Create a Linear Regression model\n",
    "lr = LinearRegression(featuresCol=\"features\", labelCol='price')"
   ]
  },
  {
   "cell_type": "code",
   "execution_count": 0,
   "metadata": {
    "application/vnd.databricks.v1+cell": {
     "cellMetadata": {
      "byteLimit": 2048000,
      "rowLimit": 10000
     },
     "inputWidgets": {},
     "nuid": "1b451a1f-cad1-40ac-a0c5-5735d601b64e",
     "showTitle": false,
     "title": ""
    }
   },
   "outputs": [],
   "source": [
    "\n",
    "# Fit the model to the training data\n",
    "lr_model = lr.fit(train_data)"
   ]
  },
  {
   "cell_type": "code",
   "execution_count": 0,
   "metadata": {
    "application/vnd.databricks.v1+cell": {
     "cellMetadata": {
      "byteLimit": 2048000,
      "rowLimit": 10000
     },
     "inputWidgets": {},
     "nuid": "e90ab2d5-6130-4fee-a6a0-6762945d83f9",
     "showTitle": false,
     "title": ""
    }
   },
   "outputs": [],
   "source": [
    "\n",
    "# Make predictions on the test data\n",
    "predictions = lr_model.transform(test_data)"
   ]
  },
  {
   "cell_type": "code",
   "execution_count": 0,
   "metadata": {
    "application/vnd.databricks.v1+cell": {
     "cellMetadata": {
      "byteLimit": 2048000,
      "rowLimit": 10000
     },
     "inputWidgets": {},
     "nuid": "78a996cb-f506-487b-9976-3c2b31320fb9",
     "showTitle": false,
     "title": ""
    }
   },
   "outputs": [
    {
     "output_type": "stream",
     "name": "stdout",
     "output_type": "stream",
     "text": [
      "+-------+-------+--------+------------------+\n|lotsize|  price|features|        prediction|\n+-------+-------+--------+------------------+\n|   1836|32500.0|[1836.0]|47823.993798690906|\n|   2000|38000.0|[2000.0]| 48819.86765921677|\n|   2135|50000.0|[2135.0]| 49639.64187367404|\n|   2145|47000.0|[2145.0]| 49700.36588955976|\n|   2145|56000.0|[2145.0]| 49700.36588955976|\n|   2145|60000.0|[2145.0]| 49700.36588955976|\n|   2160|44000.0|[2160.0]|49791.451913388344|\n|   2325|60000.0|[2325.0]|50793.398175502785|\n|   2400|25245.0|[2400.0]| 51248.82829464571|\n|   2430|38000.0|[2430.0]| 51431.00034230288|\n|   2475|34000.0|[2475.0]| 51704.25841378864|\n|   2610|49000.0|[2610.0]| 52524.03262824591|\n|   2610|60000.0|[2610.0]| 52524.03262824591|\n|   2640|40500.0|[2640.0]| 52706.20467590308|\n|   2684|46000.0|[2684.0]| 52973.39034580026|\n|   2700|47900.0|[2700.0]| 53070.54877121742|\n|   2747|60000.0|[2747.0]| 53355.95164588032|\n|   2800|70800.0|[2800.0]|53677.788930074654|\n|   2850|52000.0|[2850.0]| 53981.40900950327|\n|   2856|54000.0|[2856.0]|  54017.8434190347|\n+-------+-------+--------+------------------+\nonly showing top 20 rows\n\n"
     ]
    }
   ],
   "source": [
    "predictions.show()"
   ]
  },
  {
   "cell_type": "code",
   "execution_count": 0,
   "metadata": {
    "application/vnd.databricks.v1+cell": {
     "cellMetadata": {
      "byteLimit": 2048000,
      "rowLimit": 10000
     },
     "inputWidgets": {},
     "nuid": "50a47cc1-f04d-4a03-9c76-8128983cec0c",
     "showTitle": false,
     "title": ""
    }
   },
   "outputs": [
    {
     "output_type": "stream",
     "name": "stdout",
     "output_type": "stream",
     "text": [
      "R2 Score on test data: 0.32\n"
     ]
    }
   ],
   "source": [
    "# Evaluate the model\n",
    "evaluator = RegressionEvaluator(labelCol='price', predictionCol=\"prediction\", metricName=\"r2\")\n",
    "r2 = evaluator.evaluate(predictions)\n",
    "print(\"R2 Score on test data: {:.2f}\".format(r2))\n"
   ]
  }
 ],
 "metadata": {
  "application/vnd.databricks.v1+notebook": {
   "dashboards": [],
   "language": "python",
   "notebookMetadata": {
    "pythonIndentUnit": 4
   },
   "notebookName": "Loan Prediction using Databricks 2023-11-21 12:08:27",
   "widgets": {}
  }
 },
 "nbformat": 4,
 "nbformat_minor": 0
}
